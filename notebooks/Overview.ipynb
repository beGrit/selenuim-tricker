{
 "cells": [
  {
   "cell_type": "code",
   "execution_count": 1,
   "id": "5fb128ba",
   "metadata": {},
   "outputs": [],
   "source": [
    "import tensorflow as tf"
   ]
  },
  {
   "cell_type": "code",
   "execution_count": 2,
   "id": "9ccc5250",
   "metadata": {},
   "outputs": [
    {
     "data": {
      "text/plain": [
       "<module 'tensorflow' from '/opt/homebrew/lib/python3.10/site-packages/tensorflow/__init__.py'>"
      ]
     },
     "execution_count": 2,
     "metadata": {},
     "output_type": "execute_result"
    }
   ],
   "source": [
    "tf"
   ]
  },
  {
   "cell_type": "markdown",
   "id": "1195ea02",
   "metadata": {},
   "source": [
    "### Basic operations"
   ]
  },
  {
   "cell_type": "code",
   "execution_count": 3,
   "id": "a44dd89f",
   "metadata": {},
   "outputs": [
    {
     "data": {
      "text/plain": [
       "<tf.Tensor: shape=(), dtype=float64, numpy=6.0>"
      ]
     },
     "execution_count": 3,
     "metadata": {},
     "output_type": "execute_result"
    }
   ],
   "source": [
    "x = tf.constant([[1, 2, 3], [4, 5, 6]])\n",
    "\n",
    "x\n",
    "\n",
    "x.shape\n",
    "\n",
    "x + x\n",
    "\n",
    "x = tf.cast(x, tf.double)\n",
    "\n",
    "tf.nn.softmax(x, axis=0)\n",
    "\n",
    "tf.reduce_sum(x[0])"
   ]
  },
  {
   "cell_type": "markdown",
   "id": "4be7b982",
   "metadata": {},
   "source": [
    "### Math functions"
   ]
  },
  {
   "cell_type": "code",
   "execution_count": 17,
   "id": "6bace3aa",
   "metadata": {},
   "outputs": [],
   "source": [
    "xv = tf.Variable(x)\n",
    "\n",
    "# 求微分\n",
    "\n",
    "def f(x):\n",
    "    y = tf.pow(x, 2) + tf.multiply(2, x)\n",
    "    return y\n",
    "\n",
    "with tf.GradientTape(persistent=True) as tape:\n",
    "    tape.watch(xv)\n",
    "    y = f(xv)"
   ]
  },
  {
   "cell_type": "code",
   "execution_count": 20,
   "id": "f181639a",
   "metadata": {},
   "outputs": [
    {
     "data": {
      "text/plain": [
       "<tf.Tensor: shape=(2, 3), dtype=float64, numpy=\n",
       "array([[ 3.,  8., 15.],\n",
       "       [24., 35., 48.]])>"
      ]
     },
     "execution_count": 20,
     "metadata": {},
     "output_type": "execute_result"
    }
   ],
   "source": [
    "y"
   ]
  },
  {
   "cell_type": "code",
   "execution_count": 21,
   "id": "b35ea78e",
   "metadata": {},
   "outputs": [
    {
     "data": {
      "text/plain": [
       "<tf.Tensor: shape=(2, 3), dtype=float64, numpy=\n",
       "array([[ 4.,  6.,  8.],\n",
       "       [10., 12., 14.]])>"
      ]
     },
     "execution_count": 21,
     "metadata": {},
     "output_type": "execute_result"
    }
   ],
   "source": [
    "tape.gradient(y, xv)"
   ]
  },
  {
   "cell_type": "markdown",
   "id": "f4689c56",
   "metadata": {},
   "source": [
    "### Build a training model"
   ]
  },
  {
   "cell_type": "markdown",
   "id": "30e7c742",
   "metadata": {},
   "source": [
    "> Configure the model"
   ]
  },
  {
   "cell_type": "code",
   "execution_count": 56,
   "id": "a2d09ea5",
   "metadata": {},
   "outputs": [],
   "source": [
    "import matplotlib\n",
    "from matplotlib import pyplot as plt\n",
    "\n",
    "matplotlib.rcParams['figure.figsize'] = [5, 4]"
   ]
  },
  {
   "cell_type": "code",
   "execution_count": 57,
   "id": "fd581bf4",
   "metadata": {},
   "outputs": [],
   "source": [
    "x = tf.linspace(-2, 2, 201)\n",
    "x = tf.cast(x, tf.float32)"
   ]
  },
  {
   "cell_type": "code",
   "execution_count": 58,
   "id": "e64e0d15",
   "metadata": {},
   "outputs": [],
   "source": [
    "def f(x):\n",
    "    y = tf.pow(x, 2) + tf.multiply(x, 2) - 5\n",
    "    return y\n",
    "y = f(x) + tf.random.normal(shape=[201])"
   ]
  },
  {
   "cell_type": "code",
   "execution_count": 112,
   "id": "b142fd63",
   "metadata": {},
   "outputs": [],
   "source": [
    "class MyModel(tf.Module):\n",
    "    def __init__(self):\n",
    "        rand_init = tf.random.uniform(shape=[3], minval=-10, maxval=10, seed=22)\n",
    "        # Set the init.\n",
    "        self.w_g = tf.Variable(rand_init[0])\n",
    "        self.w_l = tf.Variable(rand_init[1])\n",
    "        self.b = tf.Variable(rand_init[2])\n",
    "    \n",
    "    @tf.function\n",
    "    def __call__(self, x):\n",
    "        # Quadratic Model.\n",
    "        return tf.multiply(self.w_g, tf.pow(x, 2)) + tf.multiply(self.w_l, x) + self.b\n",
    "\n",
    "model = MyModel()"
   ]
  },
  {
   "cell_type": "code",
   "execution_count": 113,
   "id": "ee05d893",
   "metadata": {},
   "outputs": [],
   "source": [
    "def plot_preds(x, y, f, model, title):\n",
    "    plt.plot(x.numpy(), y.numpy(), '.', linewidth=0.1, label=\"Data\")\n",
    "    plt.plot(x, f(x), label=\"Actual Line\", color='r')\n",
    "    plt.plot(x, model(x), label=\"Prediction Line\", color='g')\n",
    "    plt.legend()"
   ]
  },
  {
   "cell_type": "code",
   "execution_count": 114,
   "id": "fa70b12b",
   "metadata": {},
   "outputs": [
    {
     "data": {
      "image/png": "[encoded data removed]",
      "text/plain": [
       "<Figure size 500x400 with 1 Axes>"
      ]
     },
     "metadata": {},
     "output_type": "display_data"
    }
   ],
   "source": [
    "plot_preds(x, y, f, model, \"Before Training\")"
   ]
  },
  {
   "cell_type": "markdown",
   "id": "9b4664db",
   "metadata": {},
   "source": [
    "> Training the model"
   ]
  },
  {
   "cell_type": "code",
   "execution_count": 106,
   "id": "4a40db8d",
   "metadata": {},
   "outputs": [
    {
     "data": {
      "text/plain": [
       "()"
      ]
     },
     "execution_count": 106,
     "metadata": {},
     "output_type": "execute_result"
    }
   ],
   "source": [
    "model.variables"
   ]
  },
  {
   "cell_type": "code",
   "execution_count": 107,
   "id": "80d334fb",
   "metadata": {},
   "outputs": [
    {
     "data": {
      "text/plain": [
       "()"
      ]
     },
     "execution_count": 107,
     "metadata": {},
     "output_type": "execute_result"
    }
   ],
   "source": [
    "model.variables"
   ]
  },
  {
   "cell_type": "code",
   "execution_count": 108,
   "id": "135e8a39",
   "metadata": {},
   "outputs": [
    {
     "data": {
      "text/plain": [
       "<__main__.MyModel at 0x15e8da890>"
      ]
     },
     "execution_count": 108,
     "metadata": {},
     "output_type": "execute_result"
    }
   ],
   "source": [
    "model"
   ]
  },
  {
   "cell_type": "code",
   "execution_count": null,
   "id": "982e14ef",
   "metadata": {},
   "outputs": [],
   "source": []
  }
 ],
 "metadata": {
  "kernelspec": {
   "display_name": "venv",
   "language": "python",
   "name": "venv"
  },
  "language_info": {
   "codemirror_mode": {
    "name": "ipython",
    "version": 3
   },
   "file_extension": ".py",
   "mimetype": "text/x-python",
   "name": "python",
   "nbconvert_exporter": "python",
   "pygments_lexer": "ipython3",
   "version": "3.10.8"
  }
 },
 "nbformat": 4,
 "nbformat_minor": 5
}
